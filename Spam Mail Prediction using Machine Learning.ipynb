{
 "cells": [
  {
   "cell_type": "code",
   "execution_count": 1,
   "id": "21e2145a-ce43-453b-8f04-c1d0d23b5d85",
   "metadata": {},
   "outputs": [],
   "source": [
    "import pandas as pd\n",
    "import numpy as np\n",
    "import matplotlib.pyplot as plt\n",
    "import seaborn as sns"
   ]
  },
  {
   "cell_type": "code",
   "execution_count": 2,
   "id": "84aea6b8-f29f-4663-9ab8-fa76bac0bd55",
   "metadata": {},
   "outputs": [
    {
     "data": {
      "text/html": [
       "<div>\n",
       "<style scoped>\n",
       "    .dataframe tbody tr th:only-of-type {\n",
       "        vertical-align: middle;\n",
       "    }\n",
       "\n",
       "    .dataframe tbody tr th {\n",
       "        vertical-align: top;\n",
       "    }\n",
       "\n",
       "    .dataframe thead th {\n",
       "        text-align: right;\n",
       "    }\n",
       "</style>\n",
       "<table border=\"1\" class=\"dataframe\">\n",
       "  <thead>\n",
       "    <tr style=\"text-align: right;\">\n",
       "      <th></th>\n",
       "      <th>Category</th>\n",
       "      <th>Message</th>\n",
       "    </tr>\n",
       "  </thead>\n",
       "  <tbody>\n",
       "    <tr>\n",
       "      <th>0</th>\n",
       "      <td>ham</td>\n",
       "      <td>Go until jurong point, crazy.. Available only ...</td>\n",
       "    </tr>\n",
       "    <tr>\n",
       "      <th>1</th>\n",
       "      <td>ham</td>\n",
       "      <td>Ok lar... Joking wif u oni...</td>\n",
       "    </tr>\n",
       "    <tr>\n",
       "      <th>2</th>\n",
       "      <td>spam</td>\n",
       "      <td>Free entry in 2 a wkly comp to win FA Cup fina...</td>\n",
       "    </tr>\n",
       "    <tr>\n",
       "      <th>3</th>\n",
       "      <td>ham</td>\n",
       "      <td>U dun say so early hor... U c already then say...</td>\n",
       "    </tr>\n",
       "    <tr>\n",
       "      <th>4</th>\n",
       "      <td>ham</td>\n",
       "      <td>Nah I don't think he goes to usf, he lives aro...</td>\n",
       "    </tr>\n",
       "  </tbody>\n",
       "</table>\n",
       "</div>"
      ],
      "text/plain": [
       "  Category                                            Message\n",
       "0      ham  Go until jurong point, crazy.. Available only ...\n",
       "1      ham                      Ok lar... Joking wif u oni...\n",
       "2     spam  Free entry in 2 a wkly comp to win FA Cup fina...\n",
       "3      ham  U dun say so early hor... U c already then say...\n",
       "4      ham  Nah I don't think he goes to usf, he lives aro..."
      ]
     },
     "execution_count": 2,
     "metadata": {},
     "output_type": "execute_result"
    }
   ],
   "source": [
    "# importing data\n",
    "\n",
    "df = pd.read_csv('mail_data.csv')\n",
    "df.head()"
   ]
  },
  {
   "cell_type": "code",
   "execution_count": 3,
   "id": "2d537c55-1461-42fa-a7a2-39e7763e91cf",
   "metadata": {},
   "outputs": [
    {
     "data": {
      "text/plain": [
       "Category    0\n",
       "Message     0\n",
       "dtype: int64"
      ]
     },
     "execution_count": 3,
     "metadata": {},
     "output_type": "execute_result"
    }
   ],
   "source": [
    "# checking null values\n",
    "\n",
    "df.isnull().sum()"
   ]
  },
  {
   "cell_type": "code",
   "execution_count": 4,
   "id": "2a3950b3-f906-462d-92d9-b0c0ea47a068",
   "metadata": {},
   "outputs": [
    {
     "data": {
      "text/plain": [
       "(5572, 2)"
      ]
     },
     "execution_count": 4,
     "metadata": {},
     "output_type": "execute_result"
    }
   ],
   "source": [
    "df.shape"
   ]
  },
  {
   "cell_type": "markdown",
   "id": "990e013e-0178-4f92-8e11-d08d739ec962",
   "metadata": {},
   "source": [
    "### Label Encoding\n",
    "\n",
    "* Label spam as 0; ham as 1"
   ]
  },
  {
   "cell_type": "code",
   "execution_count": 5,
   "id": "0c807324-8768-408f-9a55-b533f489a19d",
   "metadata": {},
   "outputs": [
    {
     "data": {
      "text/plain": [
       "array(['ham', 'spam'], dtype=object)"
      ]
     },
     "execution_count": 5,
     "metadata": {},
     "output_type": "execute_result"
    }
   ],
   "source": [
    "df['Category'].unique()"
   ]
  },
  {
   "cell_type": "code",
   "execution_count": 6,
   "id": "a3287657-604a-439b-b3b5-d4853b83d489",
   "metadata": {},
   "outputs": [
    {
     "data": {
      "text/html": [
       "<div>\n",
       "<style scoped>\n",
       "    .dataframe tbody tr th:only-of-type {\n",
       "        vertical-align: middle;\n",
       "    }\n",
       "\n",
       "    .dataframe tbody tr th {\n",
       "        vertical-align: top;\n",
       "    }\n",
       "\n",
       "    .dataframe thead th {\n",
       "        text-align: right;\n",
       "    }\n",
       "</style>\n",
       "<table border=\"1\" class=\"dataframe\">\n",
       "  <thead>\n",
       "    <tr style=\"text-align: right;\">\n",
       "      <th></th>\n",
       "      <th>Category</th>\n",
       "      <th>Message</th>\n",
       "      <th>Category_new</th>\n",
       "    </tr>\n",
       "  </thead>\n",
       "  <tbody>\n",
       "    <tr>\n",
       "      <th>0</th>\n",
       "      <td>ham</td>\n",
       "      <td>Go until jurong point, crazy.. Available only ...</td>\n",
       "      <td>1</td>\n",
       "    </tr>\n",
       "    <tr>\n",
       "      <th>1</th>\n",
       "      <td>ham</td>\n",
       "      <td>Ok lar... Joking wif u oni...</td>\n",
       "      <td>1</td>\n",
       "    </tr>\n",
       "    <tr>\n",
       "      <th>2</th>\n",
       "      <td>spam</td>\n",
       "      <td>Free entry in 2 a wkly comp to win FA Cup fina...</td>\n",
       "      <td>0</td>\n",
       "    </tr>\n",
       "    <tr>\n",
       "      <th>3</th>\n",
       "      <td>ham</td>\n",
       "      <td>U dun say so early hor... U c already then say...</td>\n",
       "      <td>1</td>\n",
       "    </tr>\n",
       "    <tr>\n",
       "      <th>4</th>\n",
       "      <td>ham</td>\n",
       "      <td>Nah I don't think he goes to usf, he lives aro...</td>\n",
       "      <td>1</td>\n",
       "    </tr>\n",
       "  </tbody>\n",
       "</table>\n",
       "</div>"
      ],
      "text/plain": [
       "  Category                                            Message  Category_new\n",
       "0      ham  Go until jurong point, crazy.. Available only ...             1\n",
       "1      ham                      Ok lar... Joking wif u oni...             1\n",
       "2     spam  Free entry in 2 a wkly comp to win FA Cup fina...             0\n",
       "3      ham  U dun say so early hor... U c already then say...             1\n",
       "4      ham  Nah I don't think he goes to usf, he lives aro...             1"
      ]
     },
     "execution_count": 6,
     "metadata": {},
     "output_type": "execute_result"
    }
   ],
   "source": [
    "df['Category_new'] = np.where((df['Category']=='ham'),1,0)\n",
    "df.head()"
   ]
  },
  {
   "cell_type": "code",
   "execution_count": 7,
   "id": "f2940352-b0b5-43a7-9502-f9502a82fdde",
   "metadata": {},
   "outputs": [
    {
     "data": {
      "text/html": [
       "<div>\n",
       "<style scoped>\n",
       "    .dataframe tbody tr th:only-of-type {\n",
       "        vertical-align: middle;\n",
       "    }\n",
       "\n",
       "    .dataframe tbody tr th {\n",
       "        vertical-align: top;\n",
       "    }\n",
       "\n",
       "    .dataframe thead th {\n",
       "        text-align: right;\n",
       "    }\n",
       "</style>\n",
       "<table border=\"1\" class=\"dataframe\">\n",
       "  <thead>\n",
       "    <tr style=\"text-align: right;\">\n",
       "      <th></th>\n",
       "      <th>Message</th>\n",
       "      <th>Category_new</th>\n",
       "    </tr>\n",
       "  </thead>\n",
       "  <tbody>\n",
       "    <tr>\n",
       "      <th>0</th>\n",
       "      <td>Go until jurong point, crazy.. Available only ...</td>\n",
       "      <td>1</td>\n",
       "    </tr>\n",
       "    <tr>\n",
       "      <th>1</th>\n",
       "      <td>Ok lar... Joking wif u oni...</td>\n",
       "      <td>1</td>\n",
       "    </tr>\n",
       "    <tr>\n",
       "      <th>2</th>\n",
       "      <td>Free entry in 2 a wkly comp to win FA Cup fina...</td>\n",
       "      <td>0</td>\n",
       "    </tr>\n",
       "    <tr>\n",
       "      <th>3</th>\n",
       "      <td>U dun say so early hor... U c already then say...</td>\n",
       "      <td>1</td>\n",
       "    </tr>\n",
       "    <tr>\n",
       "      <th>4</th>\n",
       "      <td>Nah I don't think he goes to usf, he lives aro...</td>\n",
       "      <td>1</td>\n",
       "    </tr>\n",
       "  </tbody>\n",
       "</table>\n",
       "</div>"
      ],
      "text/plain": [
       "                                             Message  Category_new\n",
       "0  Go until jurong point, crazy.. Available only ...             1\n",
       "1                      Ok lar... Joking wif u oni...             1\n",
       "2  Free entry in 2 a wkly comp to win FA Cup fina...             0\n",
       "3  U dun say so early hor... U c already then say...             1\n",
       "4  Nah I don't think he goes to usf, he lives aro...             1"
      ]
     },
     "execution_count": 7,
     "metadata": {},
     "output_type": "execute_result"
    }
   ],
   "source": [
    "# dropping Category feature\n",
    "\n",
    "df = df.drop(columns=['Category'])\n",
    "df.head()"
   ]
  },
  {
   "cell_type": "code",
   "execution_count": 13,
   "id": "068c5732-3702-419f-ba15-26440dbdcb1d",
   "metadata": {},
   "outputs": [
    {
     "name": "stdout",
     "output_type": "stream",
     "text": [
      "<class 'pandas.core.frame.DataFrame'>\n",
      "RangeIndex: 5572 entries, 0 to 5571\n",
      "Data columns (total 2 columns):\n",
      " #   Column        Non-Null Count  Dtype \n",
      "---  ------        --------------  ----- \n",
      " 0   Message       5572 non-null   object\n",
      " 1   Category_new  5572 non-null   int32 \n",
      "dtypes: int32(1), object(1)\n",
      "memory usage: 65.4+ KB\n"
     ]
    }
   ],
   "source": [
    "df.info()"
   ]
  },
  {
   "cell_type": "code",
   "execution_count": 8,
   "id": "7688e98c-56b9-49d3-8b94-562243cd45d4",
   "metadata": {},
   "outputs": [],
   "source": [
    "# Separating data as texts and label\n",
    "# Dependent feature and independent feature\n",
    "\n",
    "X = df['Message']\n",
    "y = df['Category_new']"
   ]
  },
  {
   "cell_type": "markdown",
   "id": "9e5afef9-7b67-48ad-81c9-c40999ff9562",
   "metadata": {},
   "source": [
    "### Train Test Split"
   ]
  },
  {
   "cell_type": "code",
   "execution_count": 9,
   "id": "4b61acb4-ffba-4565-b934-0dc78cc3985f",
   "metadata": {},
   "outputs": [],
   "source": [
    "from sklearn.model_selection import train_test_split"
   ]
  },
  {
   "cell_type": "code",
   "execution_count": 10,
   "id": "ae1cc36f-b599-4a55-9a42-447a86e60e0d",
   "metadata": {},
   "outputs": [],
   "source": [
    "X_train,X_test,y_train,y_test = train_test_split(X,y,test_size=0.25,random_state=42)"
   ]
  },
  {
   "cell_type": "code",
   "execution_count": 11,
   "id": "ea834258-af93-4eed-82bd-af46d2701223",
   "metadata": {},
   "outputs": [
    {
     "name": "stdout",
     "output_type": "stream",
     "text": [
      "(4179,)\n",
      "(1393,)\n",
      "(4179,)\n",
      "(1393,)\n"
     ]
    }
   ],
   "source": [
    "print(X_train.shape)\n",
    "print(X_test.shape)\n",
    "print(y_train.shape)\n",
    "print(y_test.shape)"
   ]
  },
  {
   "cell_type": "markdown",
   "id": "4c5c5f8a-0437-41b8-80bd-c5fb4b86150a",
   "metadata": {},
   "source": [
    "### TF-IDF\n",
    "\n",
    "* Transforming  the text data to feature vectors "
   ]
  },
  {
   "cell_type": "code",
   "execution_count": 12,
   "id": "07e84b0d-9664-42d9-a008-dcd46c5630d5",
   "metadata": {},
   "outputs": [],
   "source": [
    "from sklearn.feature_extraction.text import TfidfVectorizer"
   ]
  },
  {
   "cell_type": "code",
   "execution_count": 14,
   "id": "4bcadcb2-7c83-487e-aa8e-21dbe7775317",
   "metadata": {},
   "outputs": [],
   "source": [
    "# min_df = ignore terms that have a document frequency strictly lower than the given threshold\n",
    "\n",
    "tv = TfidfVectorizer(min_df=1,stop_words='english',lowercase=True)\n",
    "X_train_features = tv.fit_transform(X_train)\n",
    "X_test_features = tv.transform(X_test)"
   ]
  },
  {
   "cell_type": "code",
   "execution_count": 15,
   "id": "5e3f2b40-75ec-42be-805d-43988465ad6d",
   "metadata": {},
   "outputs": [
    {
     "name": "stdout",
     "output_type": "stream",
     "text": [
      "  (0, 3269)\t0.22054637918276537\n",
      "  (0, 268)\t0.24268694798090706\n",
      "  (0, 6770)\t0.22054637918276537\n",
      "  (0, 3683)\t0.29820405490236296\n",
      "  (0, 1759)\t0.2170940285037797\n",
      "  (0, 193)\t0.29820405490236296\n",
      "  (0, 1703)\t0.3463668729960997\n",
      "  (0, 5412)\t0.26659686450403225\n",
      "  (0, 5072)\t0.18515987150578092\n",
      "  (0, 697)\t0.2603077338178364\n",
      "  (0, 5272)\t0.29820405490236296\n",
      "  (0, 5624)\t0.21107975758257638\n",
      "  (0, 1994)\t0.19237243410818475\n",
      "  (0, 4440)\t0.21107975758257638\n",
      "  (0, 6774)\t0.2393992502064106\n",
      "  (0, 7026)\t0.23108043306518108\n",
      "  (1, 2292)\t0.3492579692442415\n",
      "  (1, 3877)\t0.28721518875566576\n",
      "  (1, 1542)\t0.26346904298985996\n",
      "  (1, 6331)\t0.42282226614314494\n",
      "  (1, 3562)\t0.42282226614314494\n",
      "  (1, 5750)\t0.3615497364476182\n",
      "  (1, 3245)\t0.24301471455207635\n",
      "  (1, 5581)\t0.42282226614314494\n",
      "  (2, 1710)\t0.5953778026871843\n",
      "  :\t:\n",
      "  (4174, 2361)\t0.4566133962329911\n",
      "  (4174, 7074)\t0.3957305909097366\n",
      "  (4174, 3858)\t0.4566133962329911\n",
      "  (4174, 3187)\t0.2651298270698404\n",
      "  (4174, 2162)\t0.2706455499867595\n",
      "  (4174, 2988)\t0.23095874540003675\n",
      "  (4175, 5934)\t0.5988892457403453\n",
      "  (4175, 3759)\t0.6024091498915367\n",
      "  (4175, 3884)\t0.527669297442552\n",
      "  (4176, 5938)\t0.44684928204741564\n",
      "  (4176, 5939)\t0.44684928204741564\n",
      "  (4176, 5000)\t0.43430974574823866\n",
      "  (4176, 5258)\t0.40789792459113533\n",
      "  (4176, 3150)\t0.3174556733793977\n",
      "  (4176, 2804)\t0.38061484675324536\n",
      "  (4177, 3579)\t0.5587875366274533\n",
      "  (4177, 6489)\t0.40844184468039285\n",
      "  (4177, 5652)\t0.5248058067061129\n",
      "  (4177, 4523)\t0.4954902760614445\n",
      "  (4178, 4384)\t0.5354205127124471\n",
      "  (4178, 5905)\t0.4640299159615019\n",
      "  (4178, 6276)\t0.4803609612193769\n",
      "  (4178, 5557)\t0.3289025611153226\n",
      "  (4178, 2162)\t0.3173563901820169\n",
      "  (4178, 3608)\t0.24158328894672984\n"
     ]
    }
   ],
   "source": [
    "print(X_train_features)"
   ]
  },
  {
   "cell_type": "code",
   "execution_count": 16,
   "id": "d0bce95f-1818-4949-b5d3-7270c274c2de",
   "metadata": {},
   "outputs": [
    {
     "name": "stdout",
     "output_type": "stream",
     "text": [
      "  (0, 4797)\t0.2249854341740055\n",
      "  (0, 3978)\t0.28142633196821903\n",
      "  (0, 3838)\t0.3091529161984464\n",
      "  (0, 3288)\t0.6591729096397505\n",
      "  (0, 3127)\t0.32958645481987525\n",
      "  (0, 2105)\t0.24988724470478607\n",
      "  (0, 1998)\t0.2956936883872987\n",
      "  (0, 1692)\t0.2856408585418783\n",
      "  (1, 6956)\t0.3958833420713546\n",
      "  (1, 6787)\t0.2492928312395227\n",
      "  (1, 6447)\t0.3238476862667447\n",
      "  (1, 6351)\t0.2203215476723988\n",
      "  (1, 5276)\t0.38477401788178034\n",
      "  (1, 3923)\t0.32100202325847027\n",
      "  (1, 3335)\t0.3238476862667447\n",
      "  (1, 1910)\t0.36137462920657265\n",
      "  (1, 1307)\t0.3756970390973034\n",
      "  (2, 6376)\t0.2618780102833671\n",
      "  (2, 5440)\t0.3785175534180398\n",
      "  (2, 4240)\t0.3785175534180398\n",
      "  (2, 3400)\t0.34667462215073225\n",
      "  (2, 2988)\t0.1914572370643152\n",
      "  (2, 2971)\t0.19119695512710608\n",
      "  (2, 2301)\t0.3785175534180398\n",
      "  (2, 1239)\t0.5551556989491848\n",
      "  :\t:\n",
      "  (1389, 5636)\t0.49471725723951215\n",
      "  (1389, 5624)\t0.39169552471782315\n",
      "  (1389, 4122)\t0.3970328650072385\n",
      "  (1389, 2988)\t0.26677113133733354\n",
      "  (1389, 2971)\t0.26640846180380934\n",
      "  (1389, 2359)\t0.3970328650072385\n",
      "  (1389, 834)\t0.3800249392843302\n",
      "  (1390, 6919)\t0.5754161386982538\n",
      "  (1390, 4586)\t0.22622107401814995\n",
      "  (1390, 3916)\t0.33215618541761416\n",
      "  (1390, 3379)\t0.49408270693983736\n",
      "  (1390, 2988)\t0.23818966677298214\n",
      "  (1390, 850)\t0.45446729566610683\n",
      "  (1391, 7182)\t0.24172942395034167\n",
      "  (1391, 6882)\t0.3740767460467891\n",
      "  (1391, 5889)\t0.33591427524797723\n",
      "  (1391, 4980)\t0.3740767460467891\n",
      "  (1391, 4856)\t0.33591427524797723\n",
      "  (1391, 4679)\t0.32424168467592157\n",
      "  (1391, 3608)\t0.17994036749987252\n",
      "  (1391, 2611)\t0.41842653597355717\n",
      "  (1391, 1910)\t0.35132789407572085\n",
      "  (1392, 4165)\t0.5325753839429074\n",
      "  (1392, 4030)\t0.6746901310855601\n",
      "  (1392, 2162)\t0.5110349180181473\n"
     ]
    }
   ],
   "source": [
    "print(X_test_features)"
   ]
  },
  {
   "cell_type": "markdown",
   "id": "2498305d-dbbc-4f5d-b179-f8aec36902de",
   "metadata": {},
   "source": [
    "### Model Training"
   ]
  },
  {
   "cell_type": "code",
   "execution_count": 17,
   "id": "c0e2927f-8a86-43cc-9c67-3fd9f00750d1",
   "metadata": {},
   "outputs": [],
   "source": [
    "from sklearn.linear_model import LogisticRegression"
   ]
  },
  {
   "cell_type": "code",
   "execution_count": 19,
   "id": "7199bc3b-5e07-4954-9249-206a100354e6",
   "metadata": {},
   "outputs": [
    {
     "data": {
      "text/html": [
       "<style>#sk-container-id-1 {color: black;background-color: white;}#sk-container-id-1 pre{padding: 0;}#sk-container-id-1 div.sk-toggleable {background-color: white;}#sk-container-id-1 label.sk-toggleable__label {cursor: pointer;display: block;width: 100%;margin-bottom: 0;padding: 0.3em;box-sizing: border-box;text-align: center;}#sk-container-id-1 label.sk-toggleable__label-arrow:before {content: \"▸\";float: left;margin-right: 0.25em;color: #696969;}#sk-container-id-1 label.sk-toggleable__label-arrow:hover:before {color: black;}#sk-container-id-1 div.sk-estimator:hover label.sk-toggleable__label-arrow:before {color: black;}#sk-container-id-1 div.sk-toggleable__content {max-height: 0;max-width: 0;overflow: hidden;text-align: left;background-color: #f0f8ff;}#sk-container-id-1 div.sk-toggleable__content pre {margin: 0.2em;color: black;border-radius: 0.25em;background-color: #f0f8ff;}#sk-container-id-1 input.sk-toggleable__control:checked~div.sk-toggleable__content {max-height: 200px;max-width: 100%;overflow: auto;}#sk-container-id-1 input.sk-toggleable__control:checked~label.sk-toggleable__label-arrow:before {content: \"▾\";}#sk-container-id-1 div.sk-estimator input.sk-toggleable__control:checked~label.sk-toggleable__label {background-color: #d4ebff;}#sk-container-id-1 div.sk-label input.sk-toggleable__control:checked~label.sk-toggleable__label {background-color: #d4ebff;}#sk-container-id-1 input.sk-hidden--visually {border: 0;clip: rect(1px 1px 1px 1px);clip: rect(1px, 1px, 1px, 1px);height: 1px;margin: -1px;overflow: hidden;padding: 0;position: absolute;width: 1px;}#sk-container-id-1 div.sk-estimator {font-family: monospace;background-color: #f0f8ff;border: 1px dotted black;border-radius: 0.25em;box-sizing: border-box;margin-bottom: 0.5em;}#sk-container-id-1 div.sk-estimator:hover {background-color: #d4ebff;}#sk-container-id-1 div.sk-parallel-item::after {content: \"\";width: 100%;border-bottom: 1px solid gray;flex-grow: 1;}#sk-container-id-1 div.sk-label:hover label.sk-toggleable__label {background-color: #d4ebff;}#sk-container-id-1 div.sk-serial::before {content: \"\";position: absolute;border-left: 1px solid gray;box-sizing: border-box;top: 0;bottom: 0;left: 50%;z-index: 0;}#sk-container-id-1 div.sk-serial {display: flex;flex-direction: column;align-items: center;background-color: white;padding-right: 0.2em;padding-left: 0.2em;position: relative;}#sk-container-id-1 div.sk-item {position: relative;z-index: 1;}#sk-container-id-1 div.sk-parallel {display: flex;align-items: stretch;justify-content: center;background-color: white;position: relative;}#sk-container-id-1 div.sk-item::before, #sk-container-id-1 div.sk-parallel-item::before {content: \"\";position: absolute;border-left: 1px solid gray;box-sizing: border-box;top: 0;bottom: 0;left: 50%;z-index: -1;}#sk-container-id-1 div.sk-parallel-item {display: flex;flex-direction: column;z-index: 1;position: relative;background-color: white;}#sk-container-id-1 div.sk-parallel-item:first-child::after {align-self: flex-end;width: 50%;}#sk-container-id-1 div.sk-parallel-item:last-child::after {align-self: flex-start;width: 50%;}#sk-container-id-1 div.sk-parallel-item:only-child::after {width: 0;}#sk-container-id-1 div.sk-dashed-wrapped {border: 1px dashed gray;margin: 0 0.4em 0.5em 0.4em;box-sizing: border-box;padding-bottom: 0.4em;background-color: white;}#sk-container-id-1 div.sk-label label {font-family: monospace;font-weight: bold;display: inline-block;line-height: 1.2em;}#sk-container-id-1 div.sk-label-container {text-align: center;}#sk-container-id-1 div.sk-container {/* jupyter's `normalize.less` sets `[hidden] { display: none; }` but bootstrap.min.css set `[hidden] { display: none !important; }` so we also need the `!important` here to be able to override the default hidden behavior on the sphinx rendered scikit-learn.org. See: https://github.com/scikit-learn/scikit-learn/issues/21755 */display: inline-block !important;position: relative;}#sk-container-id-1 div.sk-text-repr-fallback {display: none;}</style><div id=\"sk-container-id-1\" class=\"sk-top-container\"><div class=\"sk-text-repr-fallback\"><pre>LogisticRegression()</pre><b>In a Jupyter environment, please rerun this cell to show the HTML representation or trust the notebook. <br />On GitHub, the HTML representation is unable to render, please try loading this page with nbviewer.org.</b></div><div class=\"sk-container\" hidden><div class=\"sk-item\"><div class=\"sk-estimator sk-toggleable\"><input class=\"sk-toggleable__control sk-hidden--visually\" id=\"sk-estimator-id-1\" type=\"checkbox\" checked><label for=\"sk-estimator-id-1\" class=\"sk-toggleable__label sk-toggleable__label-arrow\">LogisticRegression</label><div class=\"sk-toggleable__content\"><pre>LogisticRegression()</pre></div></div></div></div></div>"
      ],
      "text/plain": [
       "LogisticRegression()"
      ]
     },
     "execution_count": 19,
     "metadata": {},
     "output_type": "execute_result"
    }
   ],
   "source": [
    "model = LogisticRegression()\n",
    "model.fit(X_train_features,y_train)"
   ]
  },
  {
   "cell_type": "markdown",
   "id": "95df62c2-ff4a-4597-89da-044bcbb6f0e8",
   "metadata": {},
   "source": [
    "### Evaluating trained data"
   ]
  },
  {
   "cell_type": "code",
   "execution_count": 21,
   "id": "b848557d-4a62-4326-8b7e-58373e6a21b4",
   "metadata": {},
   "outputs": [],
   "source": [
    "# Prediction (training data)\n",
    "\n",
    "y_pred = model.predict(X_train_features)"
   ]
  },
  {
   "cell_type": "markdown",
   "id": "b682ad57-b170-4bdb-8d04-caa5e6d41fc5",
   "metadata": {},
   "source": [
    "### Accuracy"
   ]
  },
  {
   "cell_type": "code",
   "execution_count": 20,
   "id": "c4c51997-ab4a-464f-a621-e825cc058597",
   "metadata": {},
   "outputs": [],
   "source": [
    "from sklearn.metrics import accuracy_score"
   ]
  },
  {
   "cell_type": "code",
   "execution_count": 22,
   "id": "df1f2236-3d46-4c0f-80d8-6154fdb53e04",
   "metadata": {},
   "outputs": [
    {
     "data": {
      "text/plain": [
       "0.9653027039961714"
      ]
     },
     "execution_count": 22,
     "metadata": {},
     "output_type": "execute_result"
    }
   ],
   "source": [
    "accuracy_score(y_train,y_pred)"
   ]
  },
  {
   "cell_type": "markdown",
   "id": "6583a8ba-8a13-4609-bff6-326debd758bb",
   "metadata": {},
   "source": [
    "##### 96.7% accuracy score"
   ]
  },
  {
   "cell_type": "code",
   "execution_count": 23,
   "id": "30900fc6-a5c9-4541-8440-04d230c5a659",
   "metadata": {},
   "outputs": [
    {
     "data": {
      "text/plain": [
       "0.9662598707824839"
      ]
     },
     "execution_count": 23,
     "metadata": {},
     "output_type": "execute_result"
    }
   ],
   "source": [
    "# Prediction (test data)\n",
    "\n",
    "y_pred_test = model.predict(X_test_features)\n",
    "accuracy_score(y_test,y_pred_test)"
   ]
  },
  {
   "cell_type": "markdown",
   "id": "a70f090c-dfb9-4000-86b4-f911fd938777",
   "metadata": {},
   "source": [
    "##### 96.6% accuracy score"
   ]
  },
  {
   "cell_type": "markdown",
   "id": "33ee1696-ce2a-41cd-96a3-5391dc962f9d",
   "metadata": {},
   "source": [
    "### Building Predictive System"
   ]
  },
  {
   "cell_type": "code",
   "execution_count": 24,
   "id": "c1f65e1d-605f-44b7-8c76-086c9b2b4907",
   "metadata": {},
   "outputs": [],
   "source": [
    "# Taking random mail from the dataset\n",
    "\n",
    "input_mail = ['SIX chances to win CASH! From 100 to 20,000 pounds txt> CSH11 and send to 87575. Cost 150p/day, 6days, 16+ TsandCs apply Reply HL 4 info']"
   ]
  },
  {
   "cell_type": "code",
   "execution_count": 25,
   "id": "2337e8d8-7b46-4026-8fc4-083f63a7fe84",
   "metadata": {},
   "outputs": [],
   "source": [
    "# Converting text to feature vectors\n",
    "\n",
    "input_data_feature = tv.transform(input_mail)"
   ]
  },
  {
   "cell_type": "code",
   "execution_count": 26,
   "id": "db1cc17b-fcd1-4497-b524-91bc5756453f",
   "metadata": {},
   "outputs": [
    {
     "name": "stdout",
     "output_type": "stream",
     "text": [
      "[0]\n"
     ]
    }
   ],
   "source": [
    "# Predicting\n",
    "\n",
    "pred = model.predict(input_data_feature)\n",
    "print(pred)"
   ]
  },
  {
   "cell_type": "code",
   "execution_count": 27,
   "id": "e65ec2f3-25a9-47ea-ad5e-348f28bcb9da",
   "metadata": {},
   "outputs": [
    {
     "name": "stdout",
     "output_type": "stream",
     "text": [
      "Spam mail\n"
     ]
    }
   ],
   "source": [
    "if pred[0]==1:\n",
    "    print(\"Ham Mail\")\n",
    "else:\n",
    "    print(\"Spam mail\")"
   ]
  },
  {
   "cell_type": "code",
   "execution_count": null,
   "id": "d05f7f76-fca8-4265-9677-3bfabe5913fa",
   "metadata": {},
   "outputs": [],
   "source": []
  }
 ],
 "metadata": {
  "kernelspec": {
   "display_name": "Python 3 (ipykernel)",
   "language": "python",
   "name": "python3"
  },
  "language_info": {
   "codemirror_mode": {
    "name": "ipython",
    "version": 3
   },
   "file_extension": ".py",
   "mimetype": "text/x-python",
   "name": "python",
   "nbconvert_exporter": "python",
   "pygments_lexer": "ipython3",
   "version": "3.11.7"
  }
 },
 "nbformat": 4,
 "nbformat_minor": 5
}
